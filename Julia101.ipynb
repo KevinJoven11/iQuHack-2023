{
 "cells": [
  {
   "attachments": {},
   "cell_type": "markdown",
   "metadata": {},
   "source": [
    "Bloqade page: https://www.quera.com/bloqade  \n",
    "Bloqade library: https://queracomputing.github.io/Bloqade.jl/dev/  \n",
    "Bloqade  GitHub: https://github.com/QuEraComputing/Bloqade.jl  \n",
    "The important: https://queracomputing.github.io/Bloqade.jl/dev/tutorials/5.MIS/main/  \n",
    "Paper: https://arxiv.org/pdf/2202.09372.pdf  \n",
    "\n",
    "Julia: Getting Started · The Julia Language\n",
    "\n",
    "Some used packages:\n",
    "Plots\n",
    "Bloqade"
   ]
  },
  {
   "attachments": {},
   "cell_type": "markdown",
   "metadata": {},
   "source": [
    "## SOME BASICS\n",
    "\n",
    "println()\n",
    "parse(type, var) → Change var type\n",
    "\n",
    "Define the type of variable:\n",
    "(global) X :: Int64 = 15\n",
    "\n",
    "Use “[” to enter to pkg mode\n",
    "Use “;” to enter to shell mode\n",
    "\n",
    "println(“\\$Var1 + \\$Var2 = \\$(Var1+Var2)”)\n",
    "\n",
    "“?” == Then, “:” == otherwise\n",
    "Example: f(a) = (a>2) ? true : false\n"
   ]
  },
  {
   "attachments": {},
   "cell_type": "markdown",
   "metadata": {},
   "source": [
    "## FUNCTIONS\n",
    "\n",
    "function function_name(Vars)::Return_Type\n",
    "\tStatement\n",
    "end\n",
    "\n",
    "Another way to use functions: (Anonimous functions)  \n",
    "x -> x+2\n",
    "\n",
    "To evaluate we can use:\n",
    "map(x -> x+2, [2,5,6])\n",
    "\n",
    "collect(From: Step: To) → Similar to linspace in python.  \n",
    "LinRange(From: To: Step) \n",
    "\n",
    "push!(Array, Value) → Add value to an array  \n",
    "parse(Type, Value) → Change the value type to Type.  \n",
    "\n",
    "maximum()\n",
    "minimum()  \n",
    "size()  \n",
    "length()  \n",
    "sum()  \n",
    "sin(),cos(),etc.  \n",
    "\n"
   ]
  },
  {
   "attachments": {},
   "cell_type": "markdown",
   "metadata": {},
   "source": [
    "## MATRIX\n",
    "\n",
    "zeros(Type,columns_size, vector_size)  \n",
    "Array{Type}([numbers])  \n",
    "Vector{Type}([numbers])  \n",
    "Dict(Key => Value)  \n"
   ]
  },
  {
   "attachments": {},
   "cell_type": "markdown",
   "metadata": {},
   "source": [
    "## COMMENTS\n",
    "\n",
    "In Julia the index begins with 1 instead of 0.  \n",
    "More functions, conditionals, and loops don't have “:” at the end.  \n",
    "You can store functions in an array.  \n"
   ]
  }
 ],
 "metadata": {
  "language_info": {
   "name": "python"
  },
  "orig_nbformat": 4
 },
 "nbformat": 4,
 "nbformat_minor": 2
}
