{
 "cells": [
  {
   "cell_type": "code",
   "execution_count": null,
   "id": "71271e26-4fd4-440b-ae41-940a7c6c90c8",
   "metadata": {},
   "outputs": [],
   "source": []
  },
  {
   "cell_type": "code",
   "execution_count": null,
   "id": "e7d393b0-813b-463d-98bf-8bd9fa9089e0",
   "metadata": {},
   "outputs": [],
   "source": []
  },
  {
   "cell_type": "code",
   "execution_count": null,
   "id": "12d4b9e3-9199-42eb-b7c6-0a67184bc7c5",
   "metadata": {},
   "outputs": [],
   "source": []
  },
  {
   "cell_type": "code",
   "execution_count": null,
   "id": "fba23693-71d4-484e-bbd1-ad54aa0b45cb",
   "metadata": {},
   "outputs": [],
   "source": []
  },
  {
   "cell_type": "code",
   "execution_count": null,
   "id": "2e66361d-3298-4c66-b41d-7c0de34d6644",
   "metadata": {},
   "outputs": [],
   "source": []
  },
  {
   "cell_type": "code",
   "execution_count": null,
   "id": "a58cf115-6185-4593-9751-e93321183c38",
   "metadata": {},
   "outputs": [],
   "source": []
  },
  {
   "cell_type": "code",
   "execution_count": 459,
   "id": "92e608ac-dcba-4c17-b9c6-f7bcb076fa6b",
   "metadata": {},
   "outputs": [
    {
     "data": {
      "text/plain": [
       "\"\\ndef encode_cirq(image):\\n    circuit = cirq.Circuit()\\n    mean_img = np.mean(image)\\n    binary_img = (J<mean_img).astype(int)\\n    states = {}\\n    for i in range(len(binary_img)):\\n        string = ''\\n        for ele in np.array(A[i])[0]:\\n            string+=ele.astype(str)\\n        if string not in states.keys():\\n            states[string] = 1\\n        else:\\n            states[string]+=1\\n    return states\\nencode_cirq(J)\\n\""
      ]
     },
     "execution_count": 459,
     "metadata": {},
     "output_type": "execute_result"
    }
   ],
   "source": [
    "\"\"\"\n",
    "def encode_cirq(image):\n",
    "    circuit = cirq.Circuit()\n",
    "    mean_img = np.mean(image)\n",
    "    binary_img = (J<mean_img).astype(int)\n",
    "    states = {}\n",
    "    for i in range(len(binary_img)):\n",
    "        string = ''\n",
    "        for ele in np.array(A[i])[0]:\n",
    "            string+=ele.astype(str)\n",
    "        if string not in states.keys():\n",
    "            states[string] = 1\n",
    "        else:\n",
    "            states[string]+=1\n",
    "    return states\n",
    "encode_cirq(J)\n",
    "\"\"\""
   ]
  },
  {
   "cell_type": "code",
   "execution_count": null,
   "id": "1c989c98-20fc-4a3c-8bbd-e606482b6794",
   "metadata": {},
   "outputs": [],
   "source": []
  },
  {
   "cell_type": "code",
   "execution_count": null,
   "id": "be85f466-4d03-435e-9011-f7b33dd8390e",
   "metadata": {},
   "outputs": [],
   "source": []
  },
  {
   "cell_type": "code",
   "execution_count": null,
   "id": "9ffdc451-4ec3-4581-b38a-385084038062",
   "metadata": {},
   "outputs": [],
   "source": []
  },
  {
   "cell_type": "code",
   "execution_count": 462,
   "id": "ddd09c33-f22b-4306-b454-709ff803154f",
   "metadata": {},
   "outputs": [],
   "source": [
    "import qiskit\n",
    "from qiskit import quantum_info\n",
    "from qiskit.execute_function import execute\n",
    "from qiskit import BasicAer\n",
    "import numpy as np\n",
    "import pickle\n",
    "import json\n",
    "import os\n",
    "from collections import Counter\n",
    "from sklearn.metrics import mean_squared_error\n",
    "from typing import Dict, List\n",
    "\n",
    "#define utility functions\n",
    "\n",
    "#this simulate a circuit (without measurement) and output results in the format of histogram.\n",
    "def simulate(circuit: qiskit.QuantumCircuit) -> dict:\n",
    "    \"\"\"Simulate the circuit, give the state vector as the result.\"\"\"\n",
    "    \n",
    "    backend = BasicAer.get_backend('statevector_simulator')\n",
    "    job = execute(circuit, backend)\n",
    "    result = job.result()\n",
    "    print(result.get_counts(circuit))\n",
    "    state_vector = result.get_statevector()\n",
    "    histogram = dict()\n",
    "    for i in range(len(state_vector)):\n",
    "        population = abs(state_vector[i]) ** 2\n",
    "        if population > 1e-9:\n",
    "            histogram[i] = population\n",
    "    \n",
    "    return histogram\n",
    "\n",
    "\n",
    "def histogram_to_category(histogram):\n",
    "    assert abs(sum(histogram.values())-1)<1e-8\n",
    "    positive=0\n",
    "    for key in histogram.keys():\n",
    "        digits = bin(int(key))[2:].zfill(20)\n",
    "        if digits[-1]=='0':\n",
    "            positive+=histogram[key]\n",
    "        \n",
    "    return positive\n",
    "\n",
    "def count_gates(circuit: qiskit.QuantumCircuit) -> Dict[int, int]:\n",
    "    \"\"\"Returns the number of gate operations with each number of qubits.\"\"\"\n",
    "    return Counter([len(gate[1]) for gate in circuit.data])\n",
    "\n",
    "def image_mse(image1,image2):\n",
    "    # Using sklearns mean squared error:\n",
    "    # https://scikit-learn.org/stable/modules/generated/sklearn.metrics.mean_squared_error.html\n",
    "    return mean_squared_error(image1, image2)\n",
    "#load the actual hackthon data (fashion-mnist)\n",
    "images=np.load('data/images.npy')\n",
    "labels=np.load('data/labels.npy')"
   ]
  },
  {
   "cell_type": "code",
   "execution_count": 463,
   "id": "ac080ea2-25a3-4010-b1f9-26e187bbaef8",
   "metadata": {},
   "outputs": [
    {
     "data": {
      "text/plain": [
       "matrix([[0.        , 0.00127643],\n",
       "        [0.        , 0.0023837 ]])"
      ]
     },
     "execution_count": 463,
     "metadata": {},
     "output_type": "execute_result"
    }
   ],
   "source": [
    "J"
   ]
  },
  {
   "cell_type": "code",
   "execution_count": 464,
   "id": "f4ec349d-1f78-4849-a912-b37ed28ae1e1",
   "metadata": {},
   "outputs": [],
   "source": [
    "sample_img = np.matrix(images[0])\n",
    "cols = [j for j in range(0,28,15)]\n",
    "rows = [j for j in range(0,28,15)]\n",
    "J = sample_img[:,cols][rows,:]\n"
   ]
  },
  {
   "cell_type": "code",
   "execution_count": 465,
   "id": "99522106-ca5d-4d83-bdeb-4a89f11180b9",
   "metadata": {},
   "outputs": [],
   "source": [
    "def encode_qiskit(image):\n",
    "    from qiskit import QuantumCircuit\n",
    "    img_arr = np.asarray(image).reshape(-1)\n",
    "    desired_state = img_arr\n",
    "    q = qiskit.QuantumRegister(4)\n",
    "    circuit = qiskit.QuantumCircuit(q)\n",
    "    i=0\n",
    "    for ele in desired_state:\n",
    "        circuit.rx(100*ele,i)\n",
    "        i+=1\n",
    "    circuit.decompose().draw()\n",
    "    return circuit"
   ]
  },
  {
   "cell_type": "code",
   "execution_count": 452,
   "id": "7c866ffd-01af-4843-b8a1-9b70f8c993ae",
   "metadata": {},
   "outputs": [
    {
     "data": {
      "text/html": [
       "<pre style=\"word-wrap: normal;white-space: pre;background: #fff0;line-height: 1.1;font-family: &quot;Courier New&quot;,Courier,monospace\">          ┌───────┐   \n",
       "q45_0: ───┤ Rx(0) ├───\n",
       "       ┌──┴───────┴──┐\n",
       "q45_1: ┤ Rx(0.12764) ├\n",
       "       └──┬───────┬──┘\n",
       "q45_2: ───┤ Rx(0) ├───\n",
       "       ┌──┴───────┴──┐\n",
       "q45_3: ┤ Rx(0.23837) ├\n",
       "       └─────────────┘</pre>"
      ],
      "text/plain": [
       "          ┌───────┐   \n",
       "q45_0: ───┤ Rx(0) ├───\n",
       "       ┌──┴───────┴──┐\n",
       "q45_1: ┤ Rx(0.12764) ├\n",
       "       └──┬───────┬──┘\n",
       "q45_2: ───┤ Rx(0) ├───\n",
       "       ┌──┴───────┴──┐\n",
       "q45_3: ┤ Rx(0.23837) ├\n",
       "       └─────────────┘"
      ]
     },
     "execution_count": 452,
     "metadata": {},
     "output_type": "execute_result"
    }
   ],
   "source": [
    "encode_qiskit(J).draw()"
   ]
  },
  {
   "cell_type": "code",
   "execution_count": null,
   "id": "7ab78ddc-f0dd-43f4-a963-80cbc43e7b52",
   "metadata": {},
   "outputs": [],
   "source": []
  },
  {
   "cell_type": "code",
   "execution_count": null,
   "id": "d947056d-f8e8-4a24-bdb2-0961d0d52bce",
   "metadata": {},
   "outputs": [],
   "source": []
  },
  {
   "cell_type": "code",
   "execution_count": 470,
   "id": "0e0ab87f-a478-47d1-b898-3d2f0c2a1f2f",
   "metadata": {},
   "outputs": [
    {
     "name": "stdout",
     "output_type": "stream",
     "text": [
      "{'0000': 0.981851924738177, '0010': 0.00401016185008, '1000': 0.014080405042394, '1010': 5.750836935e-05}\n",
      "0000 0010\n",
      "0.004010161850079632 0.9818519247381771 0.12764321414840446 2\n",
      "0000 1000\n",
      "0.014080405042393671 0.9818519247381771 0.2383698577470203 0\n",
      "0010 1010\n",
      "1000 1010\n",
      "1.0\n"
     ]
    },
    {
     "data": {
      "image/png": "[encoded data removed]",
      "text/plain": [
       "<Figure size 432x288 with 1 Axes>"
      ]
     },
     "metadata": {
      "needs_background": "light"
     },
     "output_type": "display_data"
    }
   ],
   "source": [
    "\n",
    "n = len(images)\n",
    "mse=0\n",
    "gatecount=0\n",
    "\n",
    "#encode image into circuit\n",
    "circuit=encode_qiskit(J)\n",
    "    \n",
    "#simulate circuit\n",
    "histogram=simulate(circuit)\n",
    "    \n",
    "#count the number of 2-qubit gates\n",
    "gatecount+=count_gates(circuit)[2]\n",
    "    \n",
    "#reconstruct the image\n",
    "image_re=decode(histogram)\n",
    "    \n",
    "#calculate mse\n",
    "mse+=image_mse(np.asarray(J),image_re)\n",
    "#fidelity of reconstruction\n",
    "f=1-mse\n",
    "gatecount=gatecount/n\n",
    "\n",
    "#score for part1\n",
    "print(f*(0.999**gatecount))\n",
    "\n",
    "\n",
    "lists = sorted(histogram.items()) # sorted by key, return a list of tuples\n",
    "\n",
    "x, y = zip(*lists) # unpack a list of pairs into two tuples\n",
    "\n",
    "plt.plot(x, y)\n",
    "plt.show()"
   ]
  },
  {
   "cell_type": "code",
   "execution_count": 472,
   "id": "e9b59fab-419f-4e90-b9ae-a270db191e14",
   "metadata": {},
   "outputs": [
    {
     "data": {
      "text/plain": [
       "array([[0.        , 0.00127643],\n",
       "       [0.        , 0.0023837 ]])"
      ]
     },
     "execution_count": 472,
     "metadata": {},
     "output_type": "execute_result"
    }
   ],
   "source": [
    "def decode(histogram):    \n",
    "    options = {}\n",
    "    hist_keys = list(histogram.keys())\n",
    "    for i in range(4):\n",
    "        options[i]=0\n",
    "    for i in range(len(histogram)):\n",
    "        for j in range(i,len(histogram)):\n",
    "            x = i^j\n",
    "            if x and (not(x & (x-1))):\n",
    "                val1 = bin(hist_keys[i])[2:].zfill(4)\n",
    "                val2 = bin(hist_keys[j])[2:].zfill(4)\n",
    "                for k in range(4):\n",
    "                    if val1[k]!=val2[k]:\n",
    "                        if options[3-k] ==0:                            \n",
    "                            options[3-k] = 2*np.arctan(np.sqrt(histogram[hist_keys[j]]/histogram[hist_keys[i]]))\n",
    "            else:\n",
    "                continue\n",
    "    image = []\n",
    "    for i in range(4):\n",
    "        image.append(options[i]/100)\n",
    "    return np.asarray(image).reshape((2,2))\n",
    "decode(histogram)"
   ]
  },
  {
   "cell_type": "code",
   "execution_count": 376,
   "id": "a55a79ac-935f-4e95-ae4c-aa7a2d2ca16f",
   "metadata": {},
   "outputs": [
    {
     "data": {
      "text/plain": [
       "matrix([[0.        , 0.00127643],\n",
       "        [0.        , 0.0023837 ]])"
      ]
     },
     "execution_count": 376,
     "metadata": {},
     "output_type": "execute_result"
    }
   ],
   "source": [
    "J"
   ]
  },
  {
   "cell_type": "code",
   "execution_count": null,
   "id": "4dae8346-25eb-450b-a753-a1c676f2b998",
   "metadata": {},
   "outputs": [],
   "source": []
  },
  {
   "cell_type": "code",
   "execution_count": null,
   "id": "ac6432d4-4f12-4826-9453-369140abb5f1",
   "metadata": {},
   "outputs": [],
   "source": []
  }
 ],
 "metadata": {
  "kernelspec": {
   "display_name": "Python 3 [Default]",
   "language": "python",
   "name": "python3"
  },
  "language_info": {
   "codemirror_mode": {
    "name": "ipython",
    "version": 3
   },
   "file_extension": ".py",
   "mimetype": "text/x-python",
   "name": "python",
   "nbconvert_exporter": "python",
   "pygments_lexer": "ipython3",
   "version": "3.9.10"
  }
 },
 "nbformat": 4,
 "nbformat_minor": 5
}
