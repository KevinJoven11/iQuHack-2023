{
 "cells": [
  {
   "cell_type": "code",
   "execution_count": 1,
   "metadata": {},
   "outputs": [],
   "source": [
    "import json\n",
    "import pickle\n",
    "import os\n",
    "import matplotlib.pyplot as plt\n",
    "import numpy as np\n",
    "from collections import Counter\n",
    "from typing import Dict, List\n",
    "from IPython.display import clear_output\n",
    "\n",
    "import qiskit\n",
    "from qiskit import quantum_info\n",
    "from qiskit.execute_function import execute\n",
    "from qiskit import BasicAer\n",
    "from qiskit import QuantumCircuit\n",
    "from qiskit.algorithms.optimizers import COBYLA\n",
    "from qiskit.circuit import ParameterVector\n",
    "from qiskit.circuit.library import ZFeatureMap\n",
    "from qiskit.quantum_info import SparsePauliOp\n",
    "from qiskit.utils import algorithm_globals\n",
    "from qiskit_machine_learning.algorithms.classifiers import NeuralNetworkClassifier\n",
    "from qiskit_machine_learning.neural_networks import EstimatorQNN\n",
    "\n",
    "from sklearn.model_selection import train_test_split\n",
    "from sklearn.metrics import mean_squared_error"
   ]
  },
  {
   "cell_type": "code",
   "execution_count": 2,
   "metadata": {},
   "outputs": [],
   "source": [
    "import matplotlib.pyplot as plt\n",
    "\n",
    "#define utility functions\n",
    "\n",
    "#this simulate a circuit (without measurement) and output results in the format of histogram.\n",
    "def simulate(circuit: qiskit.QuantumCircuit) -> dict:\n",
    "    \"\"\"Simulate the circuit, give the state vector as the result.\"\"\"\n",
    "    \n",
    "    backend = BasicAer.get_backend('statevector_simulator')\n",
    "    job = execute(circuit, backend)\n",
    "    result = job.result()\n",
    "    state_vector = result.get_statevector()\n",
    "    histogram = dict()\n",
    "    for i in range(len(state_vector)):\n",
    "        population = abs(state_vector[i]) ** 2\n",
    "        if population > 1e-9:\n",
    "            histogram[i] = population\n",
    "    \n",
    "    return histogram\n",
    "\n",
    "\n",
    "def histogram_to_category(histogram):\n",
    "    assert abs(sum(histogram.values())-1)<1e-8\n",
    "    positive=0\n",
    "    for key in histogram.keys():\n",
    "        digits = bin(int(key))[2:].zfill(20)\n",
    "        if digits[-1]=='0':\n",
    "            positive+=histogram[key]\n",
    "        \n",
    "    return positive\n",
    "\n",
    "def count_gates(circuit: qiskit.QuantumCircuit) -> Dict[int, int]:\n",
    "    \"\"\"Returns the number of gate operations with each number of qubits.\"\"\"\n",
    "    return Counter([len(gate[1]) for gate in circuit.data])\n",
    "\n",
    "def image_mse(image1,image2):\n",
    "    # Using sklearns mean squared error:\n",
    "    # https://scikit-learn.org/stable/modules/generated/sklearn.metrics.mean_squared_error.html\n",
    "    return mean_squared_error(image1, image2)\n",
    "#load the actual hackthon data (fashion-mnist)\n",
    "images=np.load('images.npy')\n",
    "labels=np.load('labels.npy')"
   ]
  },
  {
   "cell_type": "code",
   "execution_count": 3,
   "metadata": {},
   "outputs": [],
   "source": [
    "sample_img = np.matrix(images[10])\n",
    "def downsizing(sample_img):\n",
    "    test_img = np.zeros((3,5))\n",
    "    col_break_pt = [5,11,17,23,28]\n",
    "    row_break_pt = [9,18,28]\n",
    "    for i in range(3):\n",
    "        for j in range(5):\n",
    "            if j==0:\n",
    "                test_img[i,j] = round(10*np.mean(sample_img[9*i:row_break_pt[i],:col_break_pt[j]]),4)\n",
    "            else:\n",
    "                test_img[i,j] = round(10*np.mean(sample_img[9*i:row_break_pt[i],col_break_pt[j-1]:col_break_pt[j]]),4)\n",
    "    return test_img"
   ]
  },
  {
   "cell_type": "code",
   "execution_count": 4,
   "metadata": {},
   "outputs": [],
   "source": [
    "def downsizing_2(sample_img):\n",
    "    test_img = np.zeros((2,2))\n",
    "    break_pt = [14,28]\n",
    "    for i in range(2):\n",
    "        for j in range(2):\n",
    "            test_img[i,j] = round(np.mean(sample_img[14*i:break_pt[i],14*j:break_pt[j]]),5)\n",
    "    return test_img"
   ]
  },
  {
   "cell_type": "code",
   "execution_count": 5,
   "metadata": {},
   "outputs": [
    {
     "data": {
      "text/plain": [
       "<matplotlib.image.AxesImage at 0x2208da73248>"
      ]
     },
     "execution_count": 5,
     "metadata": {},
     "output_type": "execute_result"
    },
    {
     "data": {
      "image/png": "[encoded data removed]",
      "text/plain": [
       "<Figure size 432x288 with 1 Axes>"
      ]
     },
     "metadata": {
      "needs_background": "light"
     },
     "output_type": "display_data"
    }
   ],
   "source": [
    "plt.imshow(sample_img)"
   ]
  },
  {
   "cell_type": "code",
   "execution_count": 6,
   "metadata": {},
   "outputs": [],
   "source": [
    "test_img = downsizing_2(sample_img)"
   ]
  },
  {
   "cell_type": "code",
   "execution_count": 7,
   "metadata": {},
   "outputs": [
    {
     "data": {
      "text/plain": [
       "<matplotlib.image.AxesImage at 0x2208db2c8c8>"
      ]
     },
     "execution_count": 7,
     "metadata": {},
     "output_type": "execute_result"
    },
    {
     "data": {
      "image/png": "[encoded data removed]",
      "text/plain": [
       "<Figure size 432x288 with 1 Axes>"
      ]
     },
     "metadata": {
      "needs_background": "light"
     },
     "output_type": "display_data"
    }
   ],
   "source": [
    "#test_img = downsizing(sample_img)\n",
    "plt.imshow(test_img)"
   ]
  },
  {
   "cell_type": "code",
   "execution_count": 8,
   "metadata": {},
   "outputs": [],
   "source": [
    "def reconstruction(test_img):\n",
    "    img = np.zeros((28,28))\n",
    "    min_img = 1e-4\n",
    "    for i in range(9):\n",
    "        for j in range(5):\n",
    "            img[8-i,4-j] = abs(round(test_img[0,0] - j**3*1e-5 - 3*i*1e-6 - 2*min_img,2))\n",
    "\n",
    "    for i in range(9):\n",
    "        for j in range(5):\n",
    "            img[8-i,23+j] = abs(round(test_img[0,4]-2*min_img -j**3*1e-5 -i*3*1e-6,2))\n",
    "\n",
    "\n",
    "\n",
    "    for k in range(3):\n",
    "        for i in range(9):\n",
    "            for j in range(6):\n",
    "                img[i,5+k*6 +j]= round(test_img[0,k+1]-5*(abs(k-1))*min_img+j*1e-6  +i*1e-6,5-2*abs(k-1))\n",
    "\n",
    "    for i in range(9):\n",
    "        for j in range(5):\n",
    "            img[17-i,4-j] = abs(round(test_img[1,0] - j**3*1e-5 - 2*min_img,2))\n",
    "    for i in range(9):\n",
    "        for j in range(5):\n",
    "            img[17-i,23+j] = abs(round(test_img[1,4]-2*min_img -j**3*1e-5 ,2))\n",
    "    for k in range(3):\n",
    "        for i in range(9):\n",
    "            for j in range(6):\n",
    "                img[9+i,5+k*6 +j]= round(test_img[1,k+1]-5*(abs(k-1))*min_img,5-2*abs(k-1))\n",
    "\n",
    "    for i in range(10):\n",
    "        for j in range(5):\n",
    "            img[18+i,5-j] = abs(round(test_img[2,0] - j**3*1e-5 -i**3*1e-6  - 2*min_img,2))\n",
    "    for i in range(10):\n",
    "        for j in range(5):\n",
    "            img[18+i,27-j] = abs(round(test_img[2,4]-2*min_img-i**3*1e-6  -j**3*1e-5 ,2))\n",
    "    for k in range(3):\n",
    "        for i in range(10):\n",
    "            for j in range(6):\n",
    "                img[18+i,5+k*6 +j]= round(test_img[2,k+1]-4*(abs(k-1))*min_img-i**3*1e-6 ,5)\n",
    "    return img\n",
    "#plt.imshow(reconstruction(test_img))"
   ]
  },
  {
   "cell_type": "code",
   "execution_count": 9,
   "metadata": {},
   "outputs": [],
   "source": [
    "def reconstruction_2(image):\n",
    "    img = np.zeros((28,28))\n",
    "    min_img = 1e-4\n",
    "    for i in range(14):\n",
    "        for j in range(14):\n",
    "            img[13-i,13-j] = max(round(test_img[0,0] - j*1e-5  - 2*min_img,5),0)\n",
    "\n",
    "    for i in range(14):\n",
    "        for j in range(14):\n",
    "            img[13-i,13+j] = max(round(test_img[0,1]-2*min_img -j*1e-5 ,5),0)\n",
    "\n",
    "    for i in range(14):\n",
    "        for j in range(14):\n",
    "            img[14+i,13- j]= max(round(test_img[1,0] - j**2*1e-5 - 0.5*i*1e-6 - 2*min_img,5),0)\n",
    "    for i in range(14):\n",
    "        for j in range(14):\n",
    "            img[14+i,13+ j]= max(round(test_img[1,1] - j**2*1e-5 - 0.5*i*1e-6 - 2*min_img,5),0)\n",
    "            \n",
    "    return img"
   ]
  },
  {
   "cell_type": "code",
   "execution_count": 10,
   "metadata": {},
   "outputs": [
    {
     "data": {
      "text/plain": [
       "0.03844588342905314"
      ]
     },
     "execution_count": 10,
     "metadata": {},
     "output_type": "execute_result"
    }
   ],
   "source": [
    "np.linalg.norm(reconstruction_2(test_img)-sample_img)"
   ]
  },
  {
   "cell_type": "code",
   "execution_count": 11,
   "metadata": {},
   "outputs": [],
   "source": [
    "def decode_2(histogram): \n",
    "    n=4\n",
    "    options = {}\n",
    "    hist_keys = list(histogram.keys())\n",
    "    for i in range(n):\n",
    "        options[i]=0\n",
    "    for i in range(len(histogram)):\n",
    "        for j in range(i,len(histogram)):\n",
    "            x = hist_keys[i]^hist_keys[j]\n",
    "            if x and (not(x & (x-1))):\n",
    "                val1 = bin(hist_keys[i])[2:].zfill(n)\n",
    "                val2 = bin(hist_keys[j])[2:].zfill(n)\n",
    "                for k in range(n):\n",
    "                    if val1[k]!=val2[k]:\n",
    "                        if options[n-1-k] ==0:                            \n",
    "                            options[n-1-k] = 2*np.arctan(np.sqrt(histogram[hist_keys[j]]/histogram[hist_keys[i]]))\n",
    "            else:\n",
    "                continue\n",
    "    image = []\n",
    "    for i in range(n):\n",
    "        image.append(round(options[i]/10,4))\n",
    "    return reconstruction_2(np.asarray(image).reshape((2,2)))"
   ]
  },
  {
   "cell_type": "code",
   "execution_count": 12,
   "metadata": {},
   "outputs": [],
   "source": [
    "def decode(histogram): \n",
    "    n=16\n",
    "    options = {}\n",
    "    hist_keys = list(histogram.keys())\n",
    "    for i in range(n):\n",
    "        options[i]=0\n",
    "    for i in range(len(histogram)):\n",
    "        for j in range(i,len(histogram)):\n",
    "            x = hist_keys[i]^hist_keys[j]\n",
    "            if x and (not(x & (x-1))):\n",
    "                val1 = bin(hist_keys[i])[2:].zfill(n)\n",
    "                val2 = bin(hist_keys[j])[2:].zfill(n)\n",
    "                for k in range(n):\n",
    "                    if val1[k]!=val2[k]:\n",
    "                        if options[n-1-k] ==0:                            \n",
    "                            options[n-1-k] = 2*np.arctan(np.sqrt(histogram[hist_keys[j]]/histogram[hist_keys[i]]))\n",
    "            else:\n",
    "                continue\n",
    "    image = []\n",
    "    for i in range(n):\n",
    "        image.append(round(options[i]/10,4))\n",
    "    return reconstruction_2(np.asarray(image).reshape((4,4)))\n"
   ]
  },
  {
   "cell_type": "code",
   "execution_count": 16,
   "metadata": {},
   "outputs": [],
   "source": [
    "def encode_qiskit(image):\n",
    "    img_arr = np.asarray(downsizing(image)).reshape(-1)\n",
    "    desired_state = img_arr\n",
    "    q = qiskit.QuantumRegister(len(desired_state))\n",
    "    circuit = qiskit.QuantumCircuit(q)\n",
    "    i=0\n",
    "    for ele in desired_state:\n",
    "        if ele>1e-8:\n",
    "            circuit.rx(10*ele,i)\n",
    "        i+=1\n",
    "    circuit.decompose().draw()\n",
    "    return circuit"
   ]
  },
  {
   "cell_type": "code",
   "execution_count": 14,
   "metadata": {},
   "outputs": [],
   "source": [
    "def encode_qiskit_2(image):\n",
    "    img_arr = np.asarray(downsizing_2(image)).reshape(-1)\n",
    "    desired_state = img_arr\n",
    "    q = qiskit.QuantumRegister(len(desired_state))\n",
    "    circuit = qiskit.QuantumCircuit(q)\n",
    "    i=0\n",
    "    for ele in desired_state:\n",
    "        if ele>1e-8:\n",
    "            circuit.rx(10*ele,i)\n",
    "        i+=1\n",
    "    circuit.decompose().draw()\n",
    "    return circuit\n",
    "J = sample_img\n",
    "encode_qiskit_2(J).draw()\n",
    "circuit=encode_qiskit_2(J)\n",
    "\n",
    "#simulate circuit\n",
    "histogram_2=simulate(circuit)"
   ]
  },
  {
   "cell_type": "code",
   "execution_count": 196,
   "metadata": {},
   "outputs": [
    {
     "name": "stdout",
     "output_type": "stream",
     "text": [
      "0.9999990666280378\n"
     ]
    }
   ],
   "source": [
    "\n",
    "n = len(images)\n",
    "mse=0\n",
    "gatecount=0\n",
    "\n",
    "for image in images[100:1000]:\n",
    "    #encode image into circuit\n",
    "    #J = downsizing(image)\n",
    "    circuit=encode_qiskit_2(image)\n",
    "\n",
    "    #simulate circuit\n",
    "    histogram_2=simulate(circuit)\n",
    "\n",
    "    #count the number of 2-qubit gates\n",
    "    gatecount+=count_gates(circuit)[2]\n",
    "    #print(gatecount)\n",
    "\n",
    "    #reconstruct the image\n",
    "    image_re=decode_2(histogram_2)\n",
    "    #image_rec = reconstruction(downsizing(image))\n",
    "    #calculate mse\n",
    "    mse+=image_mse(np.asarray(image),image_re)\n",
    "#fidelity of reconstruction\n",
    "f=1-mse/n\n",
    "gatecount=gatecount/n\n",
    "\n",
    "#score for part1\n",
    "print(f*(0.999**gatecount))\n",
    "\n"
   ]
  },
  {
   "cell_type": "code",
   "execution_count": 17,
   "metadata": {},
   "outputs": [
    {
     "data": {
      "text/html": [
       "<pre style=\"word-wrap: normal;white-space: pre;background: #fff0;line-height: 1.1;font-family: &quot;Courier New&quot;,Courier,monospace\">       ┌───────────┐\n",
       " q4_0: ┤ Rx(0.011) ├\n",
       "       ├───────────┤\n",
       " q4_1: ┤ Rx(0.104) ├\n",
       "       ├───────────┤\n",
       " q4_2: ┤ Rx(0.194) ├\n",
       "       ├───────────┤\n",
       " q4_3: ┤ Rx(0.091) ├\n",
       "       ├───────────┤\n",
       " q4_4: ┤ Rx(0.018) ├\n",
       "       ├───────────┤\n",
       " q4_5: ┤ Rx(0.024) ├\n",
       "       ├───────────┤\n",
       " q4_6: ┤ Rx(0.202) ├\n",
       "       ├───────────┤\n",
       " q4_7: ┤ Rx(0.276) ├\n",
       "       ├───────────┤\n",
       " q4_8: ┤ Rx(0.222) ├\n",
       "       ├───────────┤\n",
       " q4_9: ┤ Rx(0.038) ├\n",
       "       └───────────┘\n",
       "q4_10: ─────────────\n",
       "       ┌───────────┐\n",
       "q4_11: ┤ Rx(0.147) ├\n",
       "       ├───────────┤\n",
       "q4_12: ┤ Rx(0.289) ├\n",
       "       ├───────────┤\n",
       "q4_13: ┤ Rx(0.188) ├\n",
       "       └───────────┘\n",
       "q4_14: ─────────────\n",
       "                    </pre>"
      ],
      "text/plain": [
       "       ┌───────────┐\n",
       " q4_0: ┤ Rx(0.011) ├\n",
       "       ├───────────┤\n",
       " q4_1: ┤ Rx(0.104) ├\n",
       "       ├───────────┤\n",
       " q4_2: ┤ Rx(0.194) ├\n",
       "       ├───────────┤\n",
       " q4_3: ┤ Rx(0.091) ├\n",
       "       ├───────────┤\n",
       " q4_4: ┤ Rx(0.018) ├\n",
       "       ├───────────┤\n",
       " q4_5: ┤ Rx(0.024) ├\n",
       "       ├───────────┤\n",
       " q4_6: ┤ Rx(0.202) ├\n",
       "       ├───────────┤\n",
       " q4_7: ┤ Rx(0.276) ├\n",
       "       ├───────────┤\n",
       " q4_8: ┤ Rx(0.222) ├\n",
       "       ├───────────┤\n",
       " q4_9: ┤ Rx(0.038) ├\n",
       "       └───────────┘\n",
       "q4_10: ─────────────\n",
       "       ┌───────────┐\n",
       "q4_11: ┤ Rx(0.147) ├\n",
       "       ├───────────┤\n",
       "q4_12: ┤ Rx(0.289) ├\n",
       "       ├───────────┤\n",
       "q4_13: ┤ Rx(0.188) ├\n",
       "       └───────────┘\n",
       "q4_14: ─────────────\n",
       "                    "
      ]
     },
     "execution_count": 17,
     "metadata": {},
     "output_type": "execute_result"
    }
   ],
   "source": [
    "J = sample_img\n",
    "encode_qiskit(J).draw()"
   ]
  },
  {
   "cell_type": "code",
   "execution_count": 136,
   "metadata": {},
   "outputs": [],
   "source": [
    "circuit=encode_qiskit(J)\n",
    "\n",
    "#simulate circuit\n",
    "histogram=simulate(circuit)"
   ]
  },
  {
   "cell_type": "code",
   "execution_count": 131,
   "metadata": {},
   "outputs": [
    {
     "data": {
      "text/plain": [
       "(28, 28)"
      ]
     },
     "execution_count": 131,
     "metadata": {},
     "output_type": "execute_result"
    }
   ],
   "source": [
    "images[0].shape"
   ]
  },
  {
   "cell_type": "code",
   "execution_count": 139,
   "metadata": {},
   "outputs": [
    {
     "name": "stdout",
     "output_type": "stream",
     "text": [
      "0.9999999938363309\n"
     ]
    }
   ],
   "source": [
    "\n",
    "n = len(images)\n",
    "mse=0\n",
    "gatecount=0\n",
    "\n",
    "for image in images[0:10]:\n",
    "    #encode image into circuit\n",
    "    #J = downsizing(image)\n",
    "    circuit=encode_qiskit(image)\n",
    "\n",
    "    #simulate circuit\n",
    "    histogram=simulate(circuit)\n",
    "\n",
    "    #count the number of 2-qubit gates\n",
    "    gatecount+=count_gates(circuit)[2]\n",
    "    #print(gatecount)\n",
    "\n",
    "    #reconstruct the image\n",
    "    image_re=decode(histogram)\n",
    "    #image_rec = reconstruction(downsizing(image))\n",
    "    #calculate mse\n",
    "    mse+=image_mse(np.asarray(image),image_re)\n",
    "#fidelity of reconstruction\n",
    "f=1-mse/n\n",
    "gatecount=gatecount/n\n",
    "\n",
    "#score for part1\n",
    "print(f*(0.999**gatecount))\n",
    "\n"
   ]
  },
  {
   "cell_type": "code",
   "execution_count": null,
   "metadata": {},
   "outputs": [],
   "source": []
  },
  {
   "cell_type": "code",
   "execution_count": 18,
   "metadata": {},
   "outputs": [],
   "source": [
    "n = len(images)\n",
    "n_train = int(0.75*n)\n",
    "x_train = images[:n_train]\n",
    "x_test = images[n_train:]\n",
    "y_train = labels[:n_train]\n",
    "y_test = labels[n_train:]"
   ]
  },
  {
   "cell_type": "code",
   "execution_count": 19,
   "metadata": {},
   "outputs": [
    {
     "data": {
      "image/png": "[encoded data removed]",
      "text/plain": [
       "<Figure size 507.852x144.48 with 1 Axes>"
      ]
     },
     "execution_count": 19,
     "metadata": {},
     "output_type": "execute_result"
    }
   ],
   "source": [
    "# We now define a two qubit unitary as defined in [3]\n",
    "def conv_circuit(params):\n",
    "    target = QuantumCircuit(2)\n",
    "    target.rz(-np.pi / 2, 1)\n",
    "    target.cx(1, 0)\n",
    "    target.rz(params[0], 0)\n",
    "    target.ry(params[1], 1)\n",
    "    target.cx(0, 1)\n",
    "    target.ry(params[2], 1)\n",
    "    target.cx(1, 0)\n",
    "    target.rz(np.pi / 2, 0)\n",
    "    return target\n",
    "\n",
    "\n",
    "# Let's draw this circuit and see what it looks like\n",
    "params = ParameterVector(\"θ\", length=3)\n",
    "circuit = conv_circuit(params)\n",
    "circuit.draw(\"mpl\")"
   ]
  },
  {
   "cell_type": "code",
   "execution_count": 20,
   "metadata": {},
   "outputs": [
    {
     "data": {
      "image/png": "[encoded data removed]",
      "text/plain": [
       "<Figure size 1591.6x565.88 with 1 Axes>"
      ]
     },
     "execution_count": 20,
     "metadata": {},
     "output_type": "execute_result"
    }
   ],
   "source": [
    "def conv_layer(num_qubits, param_prefix):\n",
    "    qc = QuantumCircuit(num_qubits, name=\"Convolutional Layer\")\n",
    "    qubits = list(range(num_qubits))\n",
    "    param_index = 0\n",
    "    params = ParameterVector(param_prefix, length=num_qubits * 3)\n",
    "    for q1, q2 in zip(qubits[0::2], qubits[1::2]):\n",
    "        qc = qc.compose(conv_circuit(params[param_index : (param_index + 3)]), [q1, q2])\n",
    "        qc.barrier()\n",
    "        param_index += 3\n",
    "    for q1, q2 in zip(qubits[1::2], qubits[2::2] + [0]):\n",
    "        qc = qc.compose(conv_circuit(params[param_index : (param_index + 3)]), [q1, q2])\n",
    "        qc.barrier()\n",
    "        param_index += 3\n",
    "\n",
    "    qc_inst = qc.to_instruction()\n",
    "\n",
    "    qc = QuantumCircuit(num_qubits)\n",
    "    qc.append(qc_inst, qubits)\n",
    "    return qc\n",
    "\n",
    "\n",
    "circuit = conv_layer(4, \"θ\")\n",
    "circuit.decompose().draw(\"mpl\")"
   ]
  },
  {
   "cell_type": "code",
   "execution_count": 21,
   "metadata": {},
   "outputs": [
    {
     "data": {
      "image/png": "[encoded data removed]",
      "text/plain": [
       "<Figure size 387.452x144.48 with 1 Axes>"
      ]
     },
     "execution_count": 21,
     "metadata": {},
     "output_type": "execute_result"
    }
   ],
   "source": [
    "def pool_circuit(params):\n",
    "    target = QuantumCircuit(2)\n",
    "    target.rz(-np.pi / 2, 1)\n",
    "    target.cx(1, 0)\n",
    "    target.rz(params[0], 0)\n",
    "    target.ry(params[1], 1)\n",
    "    target.cx(0, 1)\n",
    "    target.ry(params[2], 1)\n",
    "\n",
    "    return target\n",
    "\n",
    "\n",
    "params = ParameterVector(\"θ\", length=3)\n",
    "circuit = pool_circuit(params)\n",
    "circuit.draw(\"mpl\")"
   ]
  },
  {
   "cell_type": "code",
   "execution_count": 22,
   "metadata": {},
   "outputs": [
    {
     "data": {
      "image/png": "[encoded data removed]",
      "text/plain": [
       "<Figure size 808.997x264.88 with 1 Axes>"
      ]
     },
     "execution_count": 22,
     "metadata": {},
     "output_type": "execute_result"
    }
   ],
   "source": [
    "def pool_layer(sources, sinks, param_prefix):\n",
    "    num_qubits = len(sources) + len(sinks)\n",
    "    qc = QuantumCircuit(num_qubits, name=\"Pooling Layer\")\n",
    "    param_index = 0\n",
    "    params = ParameterVector(param_prefix, length=num_qubits // 2 * 3)\n",
    "    for source, sink in zip(sources, sinks):\n",
    "        qc = qc.compose(pool_circuit(params[param_index : (param_index + 3)]), [source, sink])\n",
    "        qc.barrier()\n",
    "        param_index += 3\n",
    "\n",
    "    qc_inst = qc.to_instruction()\n",
    "\n",
    "    qc = QuantumCircuit(num_qubits)\n",
    "    qc.append(qc_inst, range(num_qubits))\n",
    "    return qc\n",
    "\n",
    "\n",
    "sources = [i for i in range(0,2)]\n",
    "sinks = [i for i in range(2,4)]\n",
    "circuit = pool_layer(sources, sinks, \"θ\")\n",
    "circuit.decompose().draw(\"mpl\")\n"
   ]
  },
  {
   "cell_type": "code",
   "execution_count": 23,
   "metadata": {},
   "outputs": [],
   "source": [
    "def generate_dataset_2(images,labels):\n",
    "    n = len(images)\n",
    "    img = []\n",
    "    lab = []\n",
    "    for image in images:\n",
    "        img.append(255*downsizing_2(image.reshape((28,28))).reshape(-1))\n",
    "            \n",
    "    for label in labels:\n",
    "        lab.append(int(label))\n",
    "    return img,lab"
   ]
  },
  {
   "cell_type": "code",
   "execution_count": 24,
   "metadata": {},
   "outputs": [
    {
     "data": {
      "image/png": "[encoded data removed]",
      "text/plain": [
       "<Figure size 720x432 with 4 Axes>"
      ]
     },
     "metadata": {},
     "output_type": "display_data"
    }
   ],
   "source": [
    "images, labels = generate_dataset_2(images,labels)\n",
    "\n",
    "train_images, test_images, train_labels, test_labels = train_test_split(\n",
    "    images, labels, test_size=0.3\n",
    ")\n",
    "\n",
    "#Let’s see some examples in our dataset\n",
    "\n",
    "fig, ax = plt.subplots(2, 2, figsize=(10, 6), subplot_kw={\"xticks\": [], \"yticks\": []})\n",
    "for i in range(4):\n",
    "    ax[i // 2, i % 2].imshow(\n",
    "        train_images[i].reshape(2, 2),  # Change back to 2 by 4\n",
    "        aspect=\"equal\",\n",
    "    )\n",
    "plt.subplots_adjust(wspace=0.1, hspace=0.025)\n"
   ]
  },
  {
   "cell_type": "code",
   "execution_count": 25,
   "metadata": {},
   "outputs": [
    {
     "data": {
      "image/png": "[encoded data removed]",
      "text/plain": [
       "<Figure size 327.397x264.88 with 1 Axes>"
      ]
     },
     "execution_count": 25,
     "metadata": {},
     "output_type": "execute_result"
    }
   ],
   "source": [
    "feature_map = ZFeatureMap(4)\n",
    "feature_map.decompose().draw(\"mpl\")"
   ]
  },
  {
   "cell_type": "code",
   "execution_count": 26,
   "metadata": {},
   "outputs": [],
   "source": [
    "feature_map = ZFeatureMap(4)\n",
    "\n",
    "ansatz = QuantumCircuit(4, name=\"Ansatz\")\n",
    "\n",
    "# First Convolutional Layer\n",
    "ansatz.compose(conv_layer(4, \"с1\"), list(range(4)), inplace=True)\n",
    "\n",
    "# First Pooling Layer\n",
    "ansatz.compose(pool_layer([i for i in range(0,2)], [i for i in range(2,4)], \"p1\"), list(range(4)), inplace=True)\n",
    "\n",
    "# Second Convolutional Layer\n",
    "ansatz.compose(conv_layer(2, \"с2\"), list(range(2,4)), inplace=True)\n",
    "\n",
    "# Second Pooling Layer\n",
    "ansatz.compose(pool_layer([0],[1], \"p2\"), list(range(2,4)), inplace=True)\n",
    "\n",
    "# Combining the feature map and ansatz\n",
    "circuit = QuantumCircuit(4)\n",
    "circuit.compose(feature_map, range(4), inplace=True)\n",
    "circuit.compose(ansatz, range(4), inplace=True)\n",
    "\n",
    "observable = SparsePauliOp.from_list([(\"Z\" + \"I\" * 3, 1)])\n",
    "\n",
    "# we decompose the circuit for the QNN to avoid additional data copying\n",
    "qnn = EstimatorQNN(\n",
    "    circuit=circuit.decompose(),\n",
    "    observables=observable,\n",
    "    input_params=feature_map.parameters,\n",
    "    weight_params=ansatz.parameters,\n",
    ")"
   ]
  },
  {
   "cell_type": "code",
   "execution_count": 27,
   "metadata": {},
   "outputs": [
    {
     "data": {
      "image/png": "[encoded data removed]",
      "text/plain": [
       "<Figure size 1411x264.88 with 1 Axes>"
      ]
     },
     "execution_count": 27,
     "metadata": {},
     "output_type": "execute_result"
    }
   ],
   "source": [
    "circuit.draw(\"mpl\")"
   ]
  },
  {
   "cell_type": "code",
   "execution_count": 28,
   "metadata": {},
   "outputs": [],
   "source": [
    "def callback_graph(weights, obj_func_eval):\n",
    "    clear_output(wait=True)\n",
    "    objective_func_vals.append(obj_func_eval)\n",
    "    plt.title(\"Objective function value against iteration\")\n",
    "    plt.xlabel(\"Iteration\")\n",
    "    plt.ylabel(\"Objective function value\")\n",
    "    plt.plot(range(len(objective_func_vals)), objective_func_vals)\n",
    "    plt.show()"
   ]
  },
  {
   "cell_type": "code",
   "execution_count": 29,
   "metadata": {},
   "outputs": [],
   "source": [
    "classifier = NeuralNetworkClassifier(\n",
    "    qnn,\n",
    "    optimizer=COBYLA(maxiter=100),  # Set max iterations here\n",
    "    callback=callback_graph,\n",
    "    #initial_point=initial_point,\n",
    ")"
   ]
  },
  {
   "cell_type": "code",
   "execution_count": null,
   "metadata": {},
   "outputs": [
    {
     "data": {
      "image/png": "[encoded data removed]",
      "text/plain": [
       "<Figure size 864x432 with 1 Axes>"
      ]
     },
     "metadata": {
      "needs_background": "light"
     },
     "output_type": "display_data"
    }
   ],
   "source": [
    "x = np.asarray(train_images)\n",
    "y = np.asarray(train_labels)\n",
    "\n",
    "objective_func_vals = []\n",
    "plt.rcParams[\"figure.figsize\"] = (12, 6)\n",
    "classifier.fit(x, y)\n",
    "\n",
    "# score classifier\n",
    "print(f\"Accuracy from the train data : {np.round(100 * classifier.score(x, y), 2)}%\")"
   ]
  },
  {
   "cell_type": "code",
   "execution_count": null,
   "metadata": {},
   "outputs": [],
   "source": [
    "y_predict = classifier.predict(test_images)\n",
    "x = np.asarray(test_images)\n",
    "y = np.asarray(test_labels)\n",
    "print(f\"Accuracy from the test data : {np.round(100 * classifier.score(x, y), 2)}%\")\n",
    "\n",
    "# Let's see some examples in our dataset\n",
    "fig, ax = plt.subplots(2, 2, figsize=(10, 6), subplot_kw={\"xticks\": [], \"yticks\": []})\n",
    "for i in range(0, 4):\n",
    "    ax[i // 2, i % 2].imshow(test_images[i].reshape(2, 2), aspect=\"equal\")\n",
    "    if y_predict[i] == -1:\n",
    "        ax[i // 2, i % 2].set_title(\"The QCNN predicts this is a Horizontal Line\")\n",
    "    if y_predict[i] == +1:\n",
    "        ax[i // 2, i % 2].set_title(\"The QCNN predicts this is a Vertical Line\")\n",
    "plt.subplots_adjust(wspace=0.1, hspace=0.5)"
   ]
  },
  {
   "cell_type": "code",
   "execution_count": null,
   "metadata": {},
   "outputs": [],
   "source": []
  },
  {
   "cell_type": "code",
   "execution_count": null,
   "metadata": {},
   "outputs": [],
   "source": []
  },
  {
   "cell_type": "code",
   "execution_count": null,
   "metadata": {},
   "outputs": [],
   "source": []
  },
  {
   "cell_type": "code",
   "execution_count": null,
   "metadata": {},
   "outputs": [],
   "source": []
  },
  {
   "cell_type": "code",
   "execution_count": null,
   "metadata": {},
   "outputs": [],
   "source": []
  },
  {
   "cell_type": "code",
   "execution_count": null,
   "metadata": {},
   "outputs": [],
   "source": []
  },
  {
   "cell_type": "code",
   "execution_count": null,
   "metadata": {},
   "outputs": [],
   "source": []
  },
  {
   "cell_type": "code",
   "execution_count": null,
   "metadata": {},
   "outputs": [],
   "source": []
  },
  {
   "cell_type": "code",
   "execution_count": null,
   "metadata": {},
   "outputs": [],
   "source": []
  },
  {
   "cell_type": "code",
   "execution_count": null,
   "metadata": {},
   "outputs": [],
   "source": []
  },
  {
   "cell_type": "code",
   "execution_count": null,
   "metadata": {},
   "outputs": [],
   "source": []
  },
  {
   "cell_type": "code",
   "execution_count": null,
   "metadata": {},
   "outputs": [],
   "source": []
  },
  {
   "cell_type": "code",
   "execution_count": null,
   "metadata": {},
   "outputs": [],
   "source": []
  },
  {
   "cell_type": "code",
   "execution_count": null,
   "metadata": {},
   "outputs": [],
   "source": [
    "#grade part 2\n",
    "\n",
    "#load classifier circuit\n",
    "classifier=qiskit.QuantumCircuit.from_qasm_file('part2.qasm')\n",
    "    \n",
    "score=0\n",
    "\n",
    "for data in dataset:\n",
    "    #encode image into circuit\n",
    "    circuit=encode_qiskit(data['image'])\n",
    "    \n",
    "    nq1 = circuit.width()\n",
    "    nq2 = classifier.width()\n",
    "    nq = max(nq1, nq2)\n",
    "    qc = qiskit.QuantumCircuit(nq)\n",
    "    qc.append(circuit.to_instruction(), list(range(nq1)))\n",
    "    qc.append(classifier.to_instruction(), list(range(nq2)))\n",
    "\n",
    "    gatecount+=count_gates(qc)[2]\n",
    "    \n",
    "    #simulate circuit\n",
    "    histogram=simulate(qc)\n",
    "    \n",
    "    #convert histogram to category\n",
    "    cat=histogram_to_category(histogram)\n",
    "    \n",
    "    \n",
    "    if cat==data['category']:\n",
    "        score+=1\n",
    "#score\n",
    "score=score/n\n",
    "gatecount=gatecount/n\n",
    "\n",
    "print(score*(0.999**gatecount))"
   ]
  },
  {
   "cell_type": "code",
   "execution_count": null,
   "metadata": {},
   "outputs": [],
   "source": []
  },
  {
   "cell_type": "code",
   "execution_count": null,
   "metadata": {},
   "outputs": [],
   "source": []
  }
 ],
 "metadata": {
  "kernelspec": {
   "display_name": "Python 3",
   "language": "python",
   "name": "python3"
  },
  "language_info": {
   "codemirror_mode": {
    "name": "ipython",
    "version": 3
   },
   "file_extension": ".py",
   "mimetype": "text/x-python",
   "name": "python",
   "nbconvert_exporter": "python",
   "pygments_lexer": "ipython3",
   "version": "3.7.6"
  }
 },
 "nbformat": 4,
 "nbformat_minor": 5
}
