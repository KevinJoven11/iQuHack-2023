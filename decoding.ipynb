{
 "cells": [
  {
   "cell_type": "code",
   "execution_count": 3,
   "metadata": {},
   "outputs": [],
   "source": [
    "import qiskit\n",
    "from qiskit import quantum_info\n",
    "from qiskit.execute_function import execute\n",
    "from qiskit import BasicAer\n",
    "import numpy as np\n",
    "import pickle\n",
    "import json\n",
    "import os\n",
    "from collections import Counter\n",
    "from sklearn.metrics import mean_squared_error\n",
    "from typing import Dict, List\n",
    "from qiskit import QuantumCircuit\n",
    "\n",
    "def encode_qiskit(image):\n",
    "    desired_state = np.zeros(1024)\n",
    "    for i in range(len(sample_img)):\n",
    "        desired_state[i] = sample_img[i]\n",
    "    nrm = np.linalg.norm(desired_state)\n",
    "    desired_state = desired_state/nrm\n",
    "    qc = QuantumCircuit(10)\n",
    "    qc.initialize(desired_state, [i for i in range(10)])\n",
    "    #qc.decompose().decompose().decompose().decompose().decompose().draw()\n",
    "    return qc"
   ]
  },
  {
   "cell_type": "code",
   "execution_count": 4,
   "metadata": {},
   "outputs": [],
   "source": [
    "import matplotlib.pyplot as plt\n",
    "\n",
    "#define utility functions\n",
    "\n",
    "#this simulate a circuit (without measurement) and output results in the format of histogram.\n",
    "def simulate(circuit: qiskit.QuantumCircuit) -> dict:\n",
    "    \"\"\"Simulate the circuit, give the state vector as the result.\"\"\"\n",
    "    \n",
    "    backend = BasicAer.get_backend('statevector_simulator')\n",
    "    job = execute(circuit, backend)\n",
    "    result = job.result()\n",
    "    state_vector = result.get_statevector()\n",
    "    histogram = dict()\n",
    "    for i in range(len(state_vector)):\n",
    "        population = abs(state_vector[i]) ** 2\n",
    "        if population > 1e-9:\n",
    "            histogram[i] = population\n",
    "    \n",
    "    return histogram\n",
    "\n",
    "\n",
    "def histogram_to_category(histogram):\n",
    "    assert abs(sum(histogram.values())-1)<1e-8\n",
    "    positive=0\n",
    "    for key in histogram.keys():\n",
    "        digits = bin(int(key))[2:].zfill(20)\n",
    "        if digits[-1]=='0':\n",
    "            positive+=histogram[key]\n",
    "        \n",
    "    return positive\n",
    "\n",
    "def count_gates(circuit: qiskit.QuantumCircuit) -> Dict[int, int]:\n",
    "    \"\"\"Returns the number of gate operations with each number of qubits.\"\"\"\n",
    "    return Counter([len(gate[1]) for gate in circuit.data])\n",
    "\n",
    "def image_mse(image1,image2):\n",
    "    # Using sklearns mean squared error:\n",
    "    # https://scikit-learn.org/stable/modules/generated/sklearn.metrics.mean_squared_error.html\n",
    "    return mean_squared_error(image1, image2)\n",
    "#load the actual hackthon data (fashion-mnist)\n",
    "images=np.load('images.npy')\n",
    "labels=np.load('labels.npy')"
   ]
  },
  {
   "cell_type": "code",
   "execution_count": 5,
   "metadata": {},
   "outputs": [],
   "source": [
    "sample_img = np.matrix(images[10])\n",
    "def downsizing(sample_img):\n",
    "    test_img = np.zeros((3,5))\n",
    "    col_break_pt = [5,11,17,23,28]\n",
    "    row_break_pt = [9,18,28]\n",
    "    for i in range(3):\n",
    "        for j in range(5):\n",
    "            if j==0:\n",
    "                test_img[i,j] = round(np.mean(sample_img[9*i:row_break_pt[i],:col_break_pt[j]]),4)\n",
    "            else:\n",
    "                test_img[i,j] = round(np.mean(sample_img[9*i:row_break_pt[i],col_break_pt[j-1]:col_break_pt[j]]),4)\n",
    "    return test_img"
   ]
  },
  {
   "cell_type": "code",
   "execution_count": 6,
   "metadata": {},
   "outputs": [
    {
     "data": {
      "text/plain": [
       "<matplotlib.image.AxesImage at 0x13c65b12988>"
      ]
     },
     "execution_count": 6,
     "metadata": {},
     "output_type": "execute_result"
    },
    {
     "data": {
      "image/png": "[encoded data removed]",
      "text/plain": [
       "<Figure size 432x288 with 1 Axes>"
      ]
     },
     "metadata": {
      "needs_background": "light"
     },
     "output_type": "display_data"
    }
   ],
   "source": [
    "plt.imshow(sample_img)"
   ]
  },
  {
   "cell_type": "code",
   "execution_count": 7,
   "metadata": {},
   "outputs": [
    {
     "data": {
      "text/plain": [
       "<matplotlib.image.AxesImage at 0x13c66ba6248>"
      ]
     },
     "execution_count": 7,
     "metadata": {},
     "output_type": "execute_result"
    },
    {
     "data": {
      "image/png": "[encoded data removed]",
      "text/plain": [
       "<Figure size 432x288 with 1 Axes>"
      ]
     },
     "metadata": {
      "needs_background": "light"
     },
     "output_type": "display_data"
    }
   ],
   "source": [
    "test_img = downsizing(sample_img)\n",
    "plt.imshow(test_img)"
   ]
  },
  {
   "cell_type": "code",
   "execution_count": 8,
   "metadata": {},
   "outputs": [
    {
     "data": {
      "text/plain": [
       "<matplotlib.image.AxesImage at 0x13c66c37908>"
      ]
     },
     "execution_count": 8,
     "metadata": {},
     "output_type": "execute_result"
    },
    {
     "data": {
      "image/png": "[encoded data removed]",
      "text/plain": [
       "<Figure size 432x288 with 1 Axes>"
      ]
     },
     "metadata": {
      "needs_background": "light"
     },
     "output_type": "display_data"
    }
   ],
   "source": [
    "def reconstruction(test_img):\n",
    "    img = np.zeros((28,28))\n",
    "    min_img = 1e-4\n",
    "    for i in range(9):\n",
    "        for j in range(5):\n",
    "            img[8-i,4-j] = abs(round(test_img[0,0] - j**3*1e-5 - 3*i*1e-6 - 2*min_img,2))\n",
    "\n",
    "    for i in range(9):\n",
    "        for j in range(5):\n",
    "            img[8-i,23+j] = abs(round(test_img[0,4]-2*min_img -j**3*1e-5 -i*3*1e-6,2))\n",
    "\n",
    "\n",
    "\n",
    "    for k in range(3):\n",
    "        for i in range(9):\n",
    "            for j in range(6):\n",
    "                img[i,5+k*6 +j]= round(test_img[0,k+1]-5*(abs(k-1))*min_img+j*1e-6  +i*1e-6,5-2*abs(k-1))\n",
    "\n",
    "    for i in range(9):\n",
    "        for j in range(5):\n",
    "            img[17-i,4-j] = abs(round(test_img[1,0] - j**3*1e-5 - 2*min_img,2))\n",
    "    for i in range(9):\n",
    "        for j in range(5):\n",
    "            img[17-i,23+j] = abs(round(test_img[1,4]-2*min_img -j**3*1e-5 ,2))\n",
    "    for k in range(3):\n",
    "        for i in range(9):\n",
    "            for j in range(6):\n",
    "                img[9+i,5+k*6 +j]= round(test_img[1,k+1]-5*(abs(k-1))*min_img,5-2*abs(k-1))\n",
    "\n",
    "    for i in range(10):\n",
    "        for j in range(5):\n",
    "            img[18+i,5-j] = abs(round(test_img[2,0] - j**3*1e-5 -i**3*1e-6  - 2*min_img,2))\n",
    "    for i in range(10):\n",
    "        for j in range(5):\n",
    "            img[18+i,27-j] = abs(round(test_img[2,4]-2*min_img-i**3*1e-6  -j**3*1e-5 ,2))\n",
    "    for k in range(3):\n",
    "        for i in range(10):\n",
    "            for j in range(6):\n",
    "                img[18+i,5+k*6 +j]= round(test_img[2,k+1]-4*(abs(k-1))*min_img-i**3*1e-6 ,5)\n",
    "    return img\n",
    "plt.imshow(reconstruction(test_img))"
   ]
  },
  {
   "cell_type": "code",
   "execution_count": 9,
   "metadata": {},
   "outputs": [
    {
     "data": {
      "text/plain": [
       "0.030961453423940702"
      ]
     },
     "execution_count": 9,
     "metadata": {},
     "output_type": "execute_result"
    }
   ],
   "source": [
    "np.linalg.norm(reconstruction(test_img)-sample_img)"
   ]
  },
  {
   "cell_type": "code",
   "execution_count": 10,
   "metadata": {},
   "outputs": [],
   "source": [
    "def decode(histogram): \n",
    "    n=15\n",
    "    options = {}\n",
    "    hist_keys = list(histogram.keys())\n",
    "    for i in range(n):\n",
    "        options[i]=0\n",
    "    for i in range(len(histogram)):\n",
    "        for j in range(i,len(histogram)):\n",
    "            x = hist_keys[i]^hist_keys[j]\n",
    "            if x and (not(x & (x-1))):\n",
    "                val1 = bin(hist_keys[i])[2:].zfill(n)\n",
    "                val2 = bin(hist_keys[j])[2:].zfill(n)\n",
    "                for k in range(n):\n",
    "                    if val1[k]!=val2[k]:\n",
    "                        if options[n-1-k] ==0:                            \n",
    "                            options[n-1-k] = 2*np.arctan(np.sqrt(histogram[hist_keys[j]]/histogram[hist_keys[i]]))\n",
    "            else:\n",
    "                continue\n",
    "    image = []\n",
    "    for i in range(n):\n",
    "        image.append(round(options[i]/10,4))\n",
    "    return reconstruction(np.asarray(image).reshape((3,5)))\n"
   ]
  },
  {
   "cell_type": "code",
   "execution_count": 11,
   "metadata": {},
   "outputs": [],
   "source": [
    "def encode_qiskit(image):\n",
    "    img_arr = np.asarray(downsizing(image)).reshape(-1)\n",
    "    desired_state = img_arr\n",
    "    q = qiskit.QuantumRegister(len(desired_state))\n",
    "    circuit = qiskit.QuantumCircuit(q)\n",
    "    i=0\n",
    "    for ele in desired_state:\n",
    "        if ele>1e-8:\n",
    "            circuit.rx(10*ele,i)\n",
    "        i+=1\n",
    "    circuit.decompose().draw()\n",
    "    return circuit"
   ]
  },
  {
   "cell_type": "code",
   "execution_count": 12,
   "metadata": {},
   "outputs": [
    {
     "data": {
      "text/html": [
       "<pre style=\"word-wrap: normal;white-space: pre;background: #fff0;line-height: 1.1;font-family: &quot;Courier New&quot;,Courier,monospace\">       ┌───────────┐\n",
       " q0_0: ┤ Rx(0.001) ├\n",
       "       └┬──────────┤\n",
       " q0_1: ─┤ Rx(0.01) ├\n",
       "       ┌┴──────────┤\n",
       " q0_2: ┤ Rx(0.019) ├\n",
       "       ├───────────┤\n",
       " q0_3: ┤ Rx(0.009) ├\n",
       "       ├───────────┤\n",
       " q0_4: ┤ Rx(0.002) ├\n",
       "       ├───────────┤\n",
       " q0_5: ┤ Rx(0.002) ├\n",
       "       └┬──────────┤\n",
       " q0_6: ─┤ Rx(0.02) ├\n",
       "       ┌┴──────────┤\n",
       " q0_7: ┤ Rx(0.028) ├\n",
       "       ├───────────┤\n",
       " q0_8: ┤ Rx(0.022) ├\n",
       "       ├───────────┤\n",
       " q0_9: ┤ Rx(0.004) ├\n",
       "       └───────────┘\n",
       "q0_10: ─────────────\n",
       "       ┌───────────┐\n",
       "q0_11: ┤ Rx(0.015) ├\n",
       "       ├───────────┤\n",
       "q0_12: ┤ Rx(0.029) ├\n",
       "       ├───────────┤\n",
       "q0_13: ┤ Rx(0.019) ├\n",
       "       └───────────┘\n",
       "q0_14: ─────────────\n",
       "                    </pre>"
      ],
      "text/plain": [
       "       ┌───────────┐\n",
       " q0_0: ┤ Rx(0.001) ├\n",
       "       └┬──────────┤\n",
       " q0_1: ─┤ Rx(0.01) ├\n",
       "       ┌┴──────────┤\n",
       " q0_2: ┤ Rx(0.019) ├\n",
       "       ├───────────┤\n",
       " q0_3: ┤ Rx(0.009) ├\n",
       "       ├───────────┤\n",
       " q0_4: ┤ Rx(0.002) ├\n",
       "       ├───────────┤\n",
       " q0_5: ┤ Rx(0.002) ├\n",
       "       └┬──────────┤\n",
       " q0_6: ─┤ Rx(0.02) ├\n",
       "       ┌┴──────────┤\n",
       " q0_7: ┤ Rx(0.028) ├\n",
       "       ├───────────┤\n",
       " q0_8: ┤ Rx(0.022) ├\n",
       "       ├───────────┤\n",
       " q0_9: ┤ Rx(0.004) ├\n",
       "       └───────────┘\n",
       "q0_10: ─────────────\n",
       "       ┌───────────┐\n",
       "q0_11: ┤ Rx(0.015) ├\n",
       "       ├───────────┤\n",
       "q0_12: ┤ Rx(0.029) ├\n",
       "       ├───────────┤\n",
       "q0_13: ┤ Rx(0.019) ├\n",
       "       └───────────┘\n",
       "q0_14: ─────────────\n",
       "                    "
      ]
     },
     "execution_count": 12,
     "metadata": {},
     "output_type": "execute_result"
    }
   ],
   "source": [
    "J = sample_img\n",
    "encode_qiskit(J).draw()"
   ]
  },
  {
   "cell_type": "code",
   "execution_count": 13,
   "metadata": {},
   "outputs": [],
   "source": [
    "circuit=encode_qiskit(J)\n",
    "\n",
    "#simulate circuit\n",
    "histogram=simulate(circuit)"
   ]
  },
  {
   "cell_type": "code",
   "execution_count": null,
   "metadata": {},
   "outputs": [],
   "source": []
  },
  {
   "cell_type": "code",
   "execution_count": 14,
   "metadata": {},
   "outputs": [
    {
     "name": "stdout",
     "output_type": "stream",
     "text": [
      "0.9999990262314562\n"
     ]
    }
   ],
   "source": [
    "\n",
    "n = len(images)\n",
    "mse=0\n",
    "gatecount=0\n",
    "\n",
    "for image in images:\n",
    "    #encode image into circuit\n",
    "    #J = downsizing(image)\n",
    "    circuit=encode_qiskit(image)\n",
    "\n",
    "    #simulate circuit\n",
    "    histogram=simulate(circuit)\n",
    "\n",
    "    #count the number of 2-qubit gates\n",
    "    gatecount+=count_gates(circuit)[2]\n",
    "    #print(gatecount)\n",
    "\n",
    "    #reconstruct the image\n",
    "    image_re=decode(histogram)\n",
    "    #image_rec = reconstruction(downsizing(image))\n",
    "    #calculate mse\n",
    "    mse+=image_mse(np.asarray(image),image_re)\n",
    "#fidelity of reconstruction\n",
    "f=1-mse/n\n",
    "gatecount=gatecount/n\n",
    "\n",
    "#score for part1\n",
    "print(f*(0.999**gatecount))\n",
    "\n"
   ]
  },
  {
   "cell_type": "code",
   "execution_count": null,
   "metadata": {},
   "outputs": [],
   "source": []
  },
  {
   "cell_type": "code",
   "execution_count": 54,
   "metadata": {},
   "outputs": [],
   "source": [
    "n = len(images)\n",
    "n_train = int(0.75*n)\n",
    "x_train = images[:n_train]\n",
    "x_test = images[n_train:]\n",
    "y_train = labels[:n_train]\n",
    "y_test = labels[n_train:]"
   ]
  },
  {
   "cell_type": "code",
   "execution_count": null,
   "metadata": {},
   "outputs": [],
   "source": []
  },
  {
   "cell_type": "code",
   "execution_count": null,
   "metadata": {},
   "outputs": [],
   "source": []
  },
  {
   "cell_type": "code",
   "execution_count": null,
   "metadata": {},
   "outputs": [],
   "source": []
  },
  {
   "cell_type": "code",
   "execution_count": null,
   "metadata": {},
   "outputs": [],
   "source": []
  },
  {
   "cell_type": "code",
   "execution_count": null,
   "metadata": {},
   "outputs": [],
   "source": []
  },
  {
   "cell_type": "code",
   "execution_count": null,
   "metadata": {},
   "outputs": [],
   "source": [
    "#grade part 2\n",
    "\n",
    "#load classifier circuit\n",
    "classifier=qiskit.QuantumCircuit.from_qasm_file('part2.qasm')\n",
    "    \n",
    "score=0\n",
    "\n",
    "for data in dataset:\n",
    "    #encode image into circuit\n",
    "    circuit=encode_qiskit(data['image'])\n",
    "    \n",
    "    nq1 = circuit.width()\n",
    "    nq2 = classifier.width()\n",
    "    nq = max(nq1, nq2)\n",
    "    qc = qiskit.QuantumCircuit(nq)\n",
    "    qc.append(circuit.to_instruction(), list(range(nq1)))\n",
    "    qc.append(classifier.to_instruction(), list(range(nq2)))\n",
    "\n",
    "    gatecount+=count_gates(qc)[2]\n",
    "    \n",
    "    #simulate circuit\n",
    "    histogram=simulate(qc)\n",
    "    \n",
    "    #convert histogram to category\n",
    "    cat=histogram_to_category(histogram)\n",
    "    \n",
    "    \n",
    "    if cat==data['category']:\n",
    "        score+=1\n",
    "#score\n",
    "score=score/n\n",
    "gatecount=gatecount/n\n",
    "\n",
    "print(score*(0.999**gatecount))"
   ]
  },
  {
   "cell_type": "code",
   "execution_count": null,
   "metadata": {},
   "outputs": [],
   "source": []
  },
  {
   "cell_type": "code",
   "execution_count": 36,
   "metadata": {},
   "outputs": [
    {
     "data": {
      "text/plain": [
       "2"
      ]
     },
     "execution_count": 36,
     "metadata": {},
     "output_type": "execute_result"
    }
   ],
   "source": [
    "1^3"
   ]
  }
 ],
 "metadata": {
  "kernelspec": {
   "display_name": "Python 3",
   "language": "python",
   "name": "python3"
  },
  "language_info": {
   "codemirror_mode": {
    "name": "ipython",
    "version": 3
   },
   "file_extension": ".py",
   "mimetype": "text/x-python",
   "name": "python",
   "nbconvert_exporter": "python",
   "pygments_lexer": "ipython3",
   "version": "3.7.6"
  }
 },
 "nbformat": 4,
 "nbformat_minor": 5
}
