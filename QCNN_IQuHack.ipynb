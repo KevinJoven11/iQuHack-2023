{
 "cells": [
  {
   "cell_type": "code",
   "execution_count": 1,
   "id": "75b34d4b",
   "metadata": {},
   "outputs": [],
   "source": [
    "from qiskit import QuantumCircuit, Aer, execute\n",
    "from qiskit.visualization import plot_histogram, plot_state_city\n",
    "from qiskit.quantum_info.states import Statevector, partial_trace\n",
    "from qiskit.circuit import Gate\n",
    "from qiskit.extensions import UnitaryGate\n",
    "from scipy.linalg import expm, norm\n",
    "\n",
    "import numpy as np\n",
    "import random\n",
    "import math\n",
    "from numpy.fft import *\n",
    "import matplotlib.pyplot as plt\n",
    "import pandas as pd"
   ]
  },
  {
   "cell_type": "markdown",
   "id": "20370f95-d08f-40e5-99d2-5a05c30ca4b8",
   "metadata": {
    "tags": []
   },
   "source": [
    "## Required Definitions"
   ]
  },
  {
   "cell_type": "code",
   "execution_count": 3,
   "id": "034ebf22-66e0-445b-a227-980ce21ce3b6",
   "metadata": {
    "tags": []
   },
   "outputs": [],
   "source": [
    "n = 3 # reduction of system size, L to L/n\n",
    "def u1():\n",
    "    u1= QuantumCircuit(n+1, name='U1')\n",
    "    for i in range(n):\n",
    "        for j in range(i+1,n+1):\n",
    "            u1.cz(i,j)\n",
    "    u1= u1.to_instruction()\n",
    "    return u1"
   ]
  },
  {
   "cell_type": "code",
   "execution_count": 34,
   "id": "acc26ad5",
   "metadata": {
    "tags": []
   },
   "outputs": [],
   "source": [
    "def gell_mann_operator(size, coeff):\n",
    "    symm = []\n",
    "    antisymm = []\n",
    "    diag = []\n",
    "    operator = []\n",
    "    n=size\n",
    "    for i in range(1,n):\n",
    "        for k in range(i):\n",
    "            mat = np.zeros((n,n),dtype=np.complex_)\n",
    "            mat[i][k] = mat[k][i] = 1\n",
    "            symm.append(mat.copy())\n",
    "            mat[i][k] = 1j; mat[k][i] = -1j\n",
    "            antisymm.append(mat.copy())\n",
    "\n",
    "    for i in range(1,n):\n",
    "        mat = np.zeros((n,n),dtype=np.complex_)\n",
    "        for k in range(i):\n",
    "            mat[k][k] = 1\n",
    "        mat[i][i] = -i\n",
    "        mat = mat*(np.sqrt(2/(i*(i+1))))\n",
    "        diag.append(mat.copy())\n",
    "    matrices = symm + antisymm + diag\n",
    "    #print(matrices)\n",
    "    \n",
    "    for c,m in zip(coeff,matrices):\n",
    "        operator.append(c*m)\n",
    "    return sum(operator)"
   ]
  },
  {
   "cell_type": "code",
   "execution_count": 5,
   "id": "4dc753c0-6409-4446-87aa-a09934c8b317",
   "metadata": {
    "tags": []
   },
   "outputs": [],
   "source": [
    "def u2():\n",
    "    u2=QuantumCircuit(n, name='U2')\n",
    "    gate=UnitaryGate(expm(-1j*gell_mann_operator(2**n, coeff)))\n",
    "    u2.append(gate, range(n))\n",
    "    u2 = u2.to_gate()\n",
    "    return u2"
   ]
  },
  {
   "cell_type": "code",
   "execution_count": 6,
   "id": "564c238c-d7a3-465a-8967-6004d3ef22e5",
   "metadata": {
    "tags": []
   },
   "outputs": [],
   "source": [
    "def p():\n",
    "    p=QuantumCircuit(n, n-1, name='Pool')\n",
    "    p.measure(range(n-1), range(n-1))\n",
    "    for _ in range(n-1):\n",
    "        p.z(n-1).c_if(_,1)\n",
    "    p=p.to_instruction()\n",
    "    return p"
   ]
  },
  {
   "cell_type": "code",
   "execution_count": 7,
   "id": "7da8973d",
   "metadata": {
    "tags": []
   },
   "outputs": [],
   "source": [
    "def qlist(j,n,l):\n",
    "    qlist=[]\n",
    "    for i in range(j,j+n):\n",
    "        qlist.append(i%l)\n",
    "    return qlist"
   ]
  },
  {
   "cell_type": "code",
   "execution_count": 8,
   "id": "f50e2b13-85b7-4e0c-8e18-e5e8e49896b3",
   "metadata": {
    "tags": []
   },
   "outputs": [],
   "source": [
    "def MSE(coeff):\n",
    "    M = len(y)\n",
    "    f = [network(init_state, coeff) for i in range(train_length)]\n",
    "    MSE = (1/2*M)*sum((y[i] - f[i])**2 for i in range(M))\n",
    "    return MSE"
   ]
  },
  {
   "cell_type": "code",
   "execution_count": 9,
   "id": "9aa39215-9e5a-4927-8216-a61dffce6720",
   "metadata": {},
   "outputs": [],
   "source": [
    "def training():\n",
    "    eps = 1e-4\n",
    "    eta = 10\n",
    "    counter = 0\n",
    "    diff = 1.0\n",
    "    grad = np.zeros(len(coeff))\n",
    "    while diff > 1e-5 or diff < -1e-5:\n",
    "        counter+=1\n",
    "        print('Iteration ongoing:', counter)\n",
    "        print(r'$ \\eta $ is:', eta)\n",
    "        if diff < 0:\n",
    "            eta+=0.05*eta\n",
    "        elif diff > 0:\n",
    "            eta-=0.5*eta\n",
    "\n",
    "        MSE_old = MSE(coeff)\n",
    "        for i in range(len(coeff)):\n",
    "            grad[i]  = (MSE(coeff+eps) - MSE(coeff-eps))/(2*eps)\n",
    "\n",
    "        for i in range(len(coeff)):\n",
    "            coeff[i]-= eta*grad[i]\n",
    "\n",
    "        MSE_new = MSE(coeff)\n",
    "        diff = MSE_new - MSE_old\n",
    "\n",
    "    print('Parameters are trained!')\n",
    "    trained_coeff = coeff"
   ]
  },
  {
   "cell_type": "code",
   "execution_count": 28,
   "id": "0047c448-486f-4272-acfc-2ac65f8aa229",
   "metadata": {},
   "outputs": [],
   "source": [
    "def network(init_state, coeff):\n",
    "    coeff = coeff\n",
    "    qcnn = QuantumCircuit(l,4)\n",
    "\n",
    "    qcnn.initialize(init_state, qcnn.qubits)\n",
    "    qcnn.barrier()\n",
    "    \n",
    "    #Convolution----\n",
    "    for j in range(0,l,n):\n",
    "        qcnn.append(u1(),qlist(j,n+1,l))\n",
    "    qcnn.barrier() \n",
    "    for j in range(0,l,n):\n",
    "        qcnn.append(u2(),qlist(j,n,l))\n",
    "    for j in range(0,l,n):\n",
    "        qcnn.append(u2(),qlist(j+1,n,l))\n",
    "    for j in range(0,l,n):\n",
    "        qcnn.append(u2(),qlist(j+2,n,l))\n",
    "\n",
    "    #Pooling-------\n",
    "    qcnn.barrier() \n",
    "    # for j in range(0,l,n):\n",
    "    #     qcnn.append(p,qlist(j,n,l))\n",
    "    qcnn.h([1,2])\n",
    "    qcnn.measure([1,2],[1,2])\n",
    "    qcnn.z(0).c_if(2,1)\n",
    "    qcnn.z(3).c_if(1,1)\n",
    "    qcnn.barrier()\n",
    "\n",
    "    #Fully Connected Layer----\n",
    "    qcnn.cz(0,3)\n",
    "    qcnn.h(0)\n",
    "    qcnn.measure(0,0)\n",
    "    qcnn.z(3).c_if(0,1)\n",
    "    qcnn.h(3)\n",
    "    qcnn.measure(3,3)\n",
    "    qcnn.draw(output='mpl')\n",
    "    # return qcnn\n",
    "    \n",
    "    # zero_state = Statevector.from_label('0000')\n",
    "    # final_state = zero_state.evolve(qcnn)\n",
    "    # reduced_state = partial_trace(final_state, [0, 1, 2])\n",
    "    # plot_state_city(reduced_state.data)\n",
    "    shots = 100\n",
    "    backend = Aer.get_backend('qasm_simulator')\n",
    "    job = execute(qcnn, backend, shots = shots)\n",
    "    counts = job.result().get_counts()\n",
    "    \n",
    "    prob_0 = []\n",
    "    prob_1 = []\n",
    "    for j in counts:\n",
    "        if j[0] == '0':\n",
    "            prob_0.append(counts[j])\n",
    "        elif j[0] == '1':\n",
    "            prob_1.append(counts[j])\n",
    "    counts_final = {\n",
    "        '0' : sum(prob_0)/shots,\n",
    "        '1' : sum(prob_1)/shots\n",
    "    }\n",
    "    \n",
    "    return counts_final['0']"
   ]
  },
  {
   "cell_type": "markdown",
   "id": "da452126-96e9-42ce-98d8-54397b8ba626",
   "metadata": {},
   "source": [
    "## Convolutional Circuit"
   ]
  },
  {
   "cell_type": "markdown",
   "id": "e22f6dea-9ff5-4d2e-b673-d180d1832b3c",
   "metadata": {
    "tags": []
   },
   "source": [
    "### Inputs"
   ]
  },
  {
   "cell_type": "markdown",
   "id": "b8c22d02-9fd6-4804-977a-d99bf2ab8358",
   "metadata": {},
   "source": [
    "### Circuit Construction"
   ]
  },
  {
   "cell_type": "code",
   "execution_count": 12,
   "id": "aec46860-c03e-49da-ad8b-189106fc6f49",
   "metadata": {
    "tags": []
   },
   "outputs": [],
   "source": [
    "np.random.seed(1024)\n",
    "coeff = [2*np.pi*random.random() for i in range((2**n)**2-1)]\n",
    "coeff = np.array(coeff)"
   ]
  },
  {
   "cell_type": "code",
   "execution_count": 29,
   "id": "ea8b6e27-2c22-47e1-9258-6aadcec7f825",
   "metadata": {},
   "outputs": [],
   "source": [
    "#Add Training Data\n",
    "#train_length = "
   ]
  },
  {
   "cell_type": "code",
   "execution_count": 29,
   "id": "c51abad8-f688-4fa6-96fe-eab6ce6c07e5",
   "metadata": {},
   "outputs": [
    {
     "data": {
      "image/png": "[encoded data removed]",
      "text/plain": [
       "<Figure size 1411x325.08 with 1 Axes>"
      ]
     },
     "execution_count": 29,
     "metadata": {},
     "output_type": "execute_result"
    }
   ],
   "source": [
    "circ = network(init_state,coeff)\n",
    "circ.draw(output='mpl')"
   ]
  },
  {
   "cell_type": "code",
   "execution_count": null,
   "id": "e552fa47-85fa-4900-9d77-d5a085a10efc",
   "metadata": {},
   "outputs": [
    {
     "name": "stdout",
     "output_type": "stream",
     "text": [
      "Iteration ongoing: 1\n",
      "$ \\eta $ is: 10\n",
      "Iteration ongoing: 2\n",
      "$ \\eta $ is: 5.0\n",
      "Iteration ongoing: 3\n",
      "$ \\eta $ is: 2.5\n",
      "Iteration ongoing: 4\n",
      "$ \\eta $ is: 2.625\n",
      "Iteration ongoing: 5\n",
      "$ \\eta $ is: 2.75625\n",
      "Iteration ongoing: 6\n",
      "$ \\eta $ is: 2.8940625\n",
      "Iteration ongoing: 7\n",
      "$ \\eta $ is: 1.44703125\n"
     ]
    }
   ],
   "source": [
    "training()"
   ]
  }
 ],
 "metadata": {
  "kernelspec": {
   "display_name": "Python 3 [Default]",
   "language": "python",
   "name": "python3"
  },
  "language_info": {
   "codemirror_mode": {
    "name": "ipython",
    "version": 3
   },
   "file_extension": ".py",
   "mimetype": "text/x-python",
   "name": "python",
   "nbconvert_exporter": "python",
   "pygments_lexer": "ipython3",
   "version": "3.9.10"
  },
  "vscode": {
   "interpreter": {
    "hash": "2a1261c5c66287495932cde3b6bdb9211f7283e2365193ac7320e078b7efc7bb"
   }
  }
 },
 "nbformat": 4,
 "nbformat_minor": 5
}
