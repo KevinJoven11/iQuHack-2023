{
 "cells": [
  {
   "cell_type": "code",
   "execution_count": 2,
   "id": "443940d6-698c-46f7-b68d-1ce98a4c1083",
   "metadata": {},
   "outputs": [],
   "source": [
    "from qiskit import QuantumCircuit\n",
    "import numpy as np\n",
    "import matplotlib.pyplot as plt"
   ]
  },
  {
   "cell_type": "markdown",
   "id": "73170a79-befa-4a09-84ea-a5858da77782",
   "metadata": {},
   "source": [
    "# Data"
   ]
  },
  {
   "cell_type": "code",
   "execution_count": 144,
   "id": "12d792d6-e9aa-4998-8f5b-ee666e05e954",
   "metadata": {},
   "outputs": [
    {
     "name": "stdout",
     "output_type": "stream",
     "text": [
      "28\n",
      "False\n"
     ]
    },
    {
     "data": {
      "image/png": "[encoded data removed]",
      "text/plain": [
       "<Figure size 432x288 with 2 Axes>"
      ]
     },
     "metadata": {
      "needs_background": "light"
     },
     "output_type": "display_data"
    }
   ],
   "source": [
    "images=np.load('data/images.npy')\n",
    "labels=np.load('data/labels.npy')\n",
    "\n",
    "images = (images/0.00392156862745098)*np.pi\n",
    "\n",
    "print(len(images[0]))\n",
    "test = 1006\n",
    "plt.imshow(images[test])\n",
    "print(labels[test])\n",
    "plt.colorbar()\n",
    "plt.show()\n",
    "\n",
    "#28x28 parameters?\n",
    "# Binary classification (4(2x2) or 16(4x4) qubits)\n",
    "# Find the t-shirt (fun fact 52 label)\n",
    "#0.00392156862745098, 0.00392156862745098\n",
    "\n",
    "# parity post processing"
   ]
  },
  {
   "cell_type": "markdown",
   "id": "c917d33b-505d-48f2-915c-6d503c606db0",
   "metadata": {},
   "source": [
    "# Data Loading"
   ]
  },
  {
   "cell_type": "code",
   "execution_count": null,
   "id": "72e832ed-ad7c-4f8c-b6db-648dc068ab62",
   "metadata": {},
   "outputs": [],
   "source": [
    "#definition of three functions.\n",
    "def encoder():# image as input\n",
    "    \n",
    "    qcircuit = QuantumCircuit(2,2) # no more than 16 qubits. Try the performance using many qubits requirements.\n",
    "    \n",
    "    return qcircuit\n",
    "\n",
    "def decoder():\n",
    "    \n",
    "    return 1 #image\n",
    "\n",
    "def run_part1():\n",
    "    \n",
    "    return 1\n",
    "\n"
   ]
  },
  {
   "cell_type": "markdown",
   "id": "88e67aaf-5704-452e-b9b2-36dbbcf941b0",
   "metadata": {},
   "source": [
    "# Tests"
   ]
  },
  {
   "cell_type": "code",
   "execution_count": 269,
   "id": "f09c7c4c-4d33-4818-98a0-f3306546fb02",
   "metadata": {},
   "outputs": [
    {
     "name": "stdout",
     "output_type": "stream",
     "text": [
      "The shape of the images is: (2000, 28, 28)\n",
      "The shape of the images is: (2000, 2, 2, 1)\n"
     ]
    }
   ],
   "source": [
    "import tensorflow as tf\n",
    "\n",
    "size = np.array([2,2])\n",
    "area = size[0]*size[1]\n",
    "select_image = 6 # from 0 to 2000\n",
    "\n",
    "images2 = images\n",
    "print(\"The shape of the images is: {}\".format(images2.shape))\n",
    "images2 = images2.reshape(images2.shape[0], *(28,28,1))\n",
    "\n",
    "images2 = tf.image.resize(images2, (size[0],size[1])).numpy()\n",
    "print(\"The shape of the images is: {}\".format(images2.shape))"
   ]
  },
  {
   "cell_type": "code",
   "execution_count": 262,
   "id": "73b31dc3-9d46-4250-aaf1-0f0ca7499cbb",
   "metadata": {},
   "outputs": [
    {
     "name": "stdout",
     "output_type": "stream",
     "text": [
      "Image before:\n"
     ]
    },
    {
     "data": {
      "image/png": "[encoded data removed]",
      "text/plain": [
       "<Figure size 432x288 with 2 Axes>"
      ]
     },
     "metadata": {
      "needs_background": "light"
     },
     "output_type": "display_data"
    }
   ],
   "source": [
    "print(\"Image before:\")\n",
    "plt.imshow(images[select_image])\n",
    "plt.colorbar()\n",
    "plt.show()"
   ]
  },
  {
   "cell_type": "code",
   "execution_count": 263,
   "id": "81f13db4-5c3c-437e-9b16-aebf706e378e",
   "metadata": {},
   "outputs": [
    {
     "name": "stdout",
     "output_type": "stream",
     "text": [
      "Image then:\n"
     ]
    },
    {
     "data": {
      "image/png": "[encoded data removed]",
      "text/plain": [
       "<Figure size 432x288 with 2 Axes>"
      ]
     },
     "metadata": {
      "needs_background": "light"
     },
     "output_type": "display_data"
    }
   ],
   "source": [
    "print(\"Image then:\")\n",
    "plt.imshow(images2[select_image])\n",
    "plt.colorbar()\n",
    "plt.show()"
   ]
  },
  {
   "cell_type": "code",
   "execution_count": 271,
   "id": "1ec639e5-ccab-4237-a1e6-fa011513a880",
   "metadata": {},
   "outputs": [],
   "source": [
    "# Flateing\n",
    "images2 = images2.reshape(images2.shape[0], *(1,area,1))"
   ]
  },
  {
   "cell_type": "code",
   "execution_count": 267,
   "id": "7ba9cbb3-fb6f-463d-8e13-ce44b830bb24",
   "metadata": {},
   "outputs": [],
   "source": [
    "from qiskit.circuit import ParameterVector, QuantumCircuit\n",
    "from qiskit import Aer, execute\n",
    "from qiskit.visualization import plot_histogram"
   ]
  },
  {
   "cell_type": "code",
   "execution_count": 272,
   "id": "a1b8b829-26a5-4ef1-9a99-73b633eb4166",
   "metadata": {},
   "outputs": [],
   "source": [
    "# define your parameters\n",
    "p = ParameterVector('p', area) "
   ]
  },
  {
   "cell_type": "code",
   "execution_count": 277,
   "id": "df399d72-1915-4c87-ada9-34146122ea58",
   "metadata": {},
   "outputs": [
    {
     "data": {
      "text/html": [
       "<pre style=\"word-wrap: normal;white-space: pre;background: #fff0;line-height: 1.1;font-family: &quot;Courier New&quot;,Courier,monospace\">        ┌───────────────────────┐ ░ ┌─┐         \n",
       "   q_0: ┤ Rx(0.800798058509827) ├─░─┤M├─────────\n",
       "        ├───────────────────────┤ ░ └╥┘┌─┐      \n",
       "   q_1: ┤ Rx(0.631398558616638) ├─░──╫─┤M├──────\n",
       "        └┬──────────────────────┤ ░  ║ └╥┘┌─┐   \n",
       "   q_2: ─┤ Rx(1.02255761623383) ├─░──╫──╫─┤M├───\n",
       "        ┌┴──────────────────────┤ ░  ║  ║ └╥┘┌─┐\n",
       "   q_3: ┤ Rx(0.979437708854675) ├─░──╫──╫──╫─┤M├\n",
       "        └───────────────────────┘ ░  ║  ║  ║ └╥┘\n",
       "meas: 4/═════════════════════════════╩══╩══╩══╩═\n",
       "                                     0  1  2  3 </pre>"
      ],
      "text/plain": [
       "        ┌───────────────────────┐ ░ ┌─┐         \n",
       "   q_0: ┤ Rx(0.800798058509827) ├─░─┤M├─────────\n",
       "        ├───────────────────────┤ ░ └╥┘┌─┐      \n",
       "   q_1: ┤ Rx(0.631398558616638) ├─░──╫─┤M├──────\n",
       "        └┬──────────────────────┤ ░  ║ └╥┘┌─┐   \n",
       "   q_2: ─┤ Rx(1.02255761623383) ├─░──╫──╫─┤M├───\n",
       "        ┌┴──────────────────────┤ ░  ║  ║ └╥┘┌─┐\n",
       "   q_3: ┤ Rx(0.979437708854675) ├─░──╫──╫──╫─┤M├\n",
       "        └───────────────────────┘ ░  ║  ║  ║ └╥┘\n",
       "meas: 4/═════════════════════════════╩══╩══╩══╩═\n",
       "                                     0  1  2  3 "
      ]
     },
     "execution_count": 277,
     "metadata": {},
     "output_type": "execute_result"
    }
   ],
   "source": [
    "qc = QuantumCircuit(area)\n",
    "\n",
    "for i in range(area):\n",
    "    qc.rx(p[i],i)\n",
    "\n",
    "# bind parameters\n",
    "for i in range(area):\n",
    "    qc = qc.bind_parameters({p[i]:images2[select_image][0][i][0]})\n",
    "\n",
    "qc.measure_all()\n",
    "qc.draw()"
   ]
  },
  {
   "cell_type": "code",
   "execution_count": 275,
   "id": "9b3a1132-7b75-44b4-b268-0fca59a0369f",
   "metadata": {},
   "outputs": [
    {
     "data": {
      "image/png": "[encoded data removed]",
      "text/plain": [
       "<Figure size 504x360 with 1 Axes>"
      ]
     },
     "execution_count": 275,
     "metadata": {},
     "output_type": "execute_result"
    }
   ],
   "source": [
    "backend = Aer.get_backend('qasm_simulator')\n",
    "job = execute(qc, backend, shots=10000)\n",
    "\n",
    "res = job.result().get_counts(qc)\n",
    "\n",
    "plot_histogram(res)"
   ]
  },
  {
   "cell_type": "code",
   "execution_count": 276,
   "id": "538d51a0-f7ee-4750-a1ab-f01143b72a77",
   "metadata": {},
   "outputs": [
    {
     "data": {
      "text/plain": [
       "{'1111': 3,\n",
       " '1011': 19,\n",
       " '1100': 397,\n",
       " '0100': 1426,\n",
       " '0000': 4466,\n",
       " '0010': 487,\n",
       " '1000': 1302,\n",
       " '0110': 151,\n",
       " '1101': 90,\n",
       " '1010': 132,\n",
       " '1001': 256,\n",
       " '0101': 271,\n",
       " '1110': 49,\n",
       " '0001': 813,\n",
       " '0111': 37,\n",
       " '0011': 101}"
      ]
     },
     "execution_count": 276,
     "metadata": {},
     "output_type": "execute_result"
    }
   ],
   "source": [
    "res"
   ]
  },
  {
   "cell_type": "code",
   "execution_count": null,
   "id": "8e11df31-c759-4532-af12-d81f06c68f62",
   "metadata": {},
   "outputs": [],
   "source": []
  }
 ],
 "metadata": {
  "kernelspec": {
   "display_name": "Python 3 [Qiskit]",
   "language": "python",
   "name": "python3_qiskit_9y9siy"
  },
  "language_info": {
   "codemirror_mode": {
    "name": "ipython",
    "version": 3
   },
   "file_extension": ".py",
   "mimetype": "text/x-python",
   "name": "python",
   "nbconvert_exporter": "python",
   "pygments_lexer": "ipython3",
   "version": "3.9.10"
  }
 },
 "nbformat": 4,
 "nbformat_minor": 5
}
